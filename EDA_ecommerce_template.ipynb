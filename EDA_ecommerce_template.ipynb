{
 "cells": [
  {
   "cell_type": "markdown",
   "metadata": {},
   "source": [
    "# Caso práctico -  Análisis de las transacciones de un negocio ecommerce\n",
    "### 📈 <b>Contexto del negocio y la situación:</b>\n",
    "\n",
    "Imagina que eres un analista de datos trabjando para una empresa ecommerce minorista que vende una variedad de productos online, que van desde equipos electrónicos y ropa hasta artículos para el hogar y accesorios. Tu tarea es analizar las transacciones de los clientes desde 2023 para identificar tendencias, comprender el comportamiento del cliente y optimizar la gestión de inventario.\n",
    "\n",
    "### 📍 <b>Objetivos:</b>\n",
    "\n",
    "- Comprender el comportamiento del cliente: Analizar la frecuencia de las compras, el valor promedio de las compras y los productos más populares.\n",
    "- Optimizar el inventario: Identificar productos con altas tasas de devolución para ajustar los niveles de inventario.\n",
    "- Mejorar las ventas y el marketing: Identificar segmentos de clientes que puedan ser objetivos de campañas de marketing para aumentar las ventas.\n",
    "- Opcional: utilizar algún modelo de ML para hacer segmentación de clientes, predicción de ventas, de Customer Churn u otras propuestas.\n",
    "\n",
    "### 💾 Descripción de los datos\n",
    "- TransactionID: Identificador único para cada transacción.\n",
    "- CustomerID: Identificador único para cada cliente.\n",
    "- TransactionDate: Fecha y hora de la transacción.\n",
    "- ProductID: Identificador único para cada producto.\n",
    "- ProductCategory: Categoría del producto (por ejemplo, Electrónica, Ropa, Artículos para el hogar).\n",
    "- Quantity: Número de unidades compradas.\n",
    "- Price: Precio por unidad del producto.\n",
    "- PaymentMethod: Método de pago (por ejemplo, Tarjeta de crédito, PayPal, Transferencia bancaria).\n",
    "- ReturnStatus: Indica si el artículo fue devuelto (Sí o No).\n",
    "- CustomerFeedback: Rating del 1 al 10 que representa la valoración del cliente.\n",
    "- DiscountApplied: Porcentaje de descuento que se ha aplicado sobre el producto.\n",
    "- ShippingCost: Coste del envío en euros."
   ]
  },
  {
   "cell_type": "markdown",
   "metadata": {},
   "source": [
    "Esta plantilla te guiará a través del proceso de análisis inicial y pre-procesado de los datos, pero es solo una guía! Puedes añadir o quitar lo que creas conveniente o analizar otros aspectos que te parezcan interesantes. Recuerda que hay muchas formas de llegar al mismo resultado, y lo que más se valora es la proactividad! 😃"
   ]
  },
  {
   "cell_type": "code",
   "execution_count": 1,
   "metadata": {},
   "outputs": [],
   "source": [
    "# Importar las librerías necesarias\n",
    "import ..."
   ]
  },
  {
   "cell_type": "code",
   "execution_count": null,
   "metadata": {},
   "outputs": [],
   "source": [
    "# Cargar los datos (ecommerce_data.csv)\n",
    "df = "
   ]
  },
  {
   "cell_type": "markdown",
   "metadata": {},
   "source": [
    "***"
   ]
  },
  {
   "cell_type": "markdown",
   "metadata": {},
   "source": [
    "# 1. Exploración Inicial\n",
    "El primer paso de cualquier análisis es realizar una exploración inicial de los datos. Entender qué tipo de información lleva cada columna, las unidades, los tipos de variables y tener una idea general de errores a gestionar en los siguientes pasos."
   ]
  },
  {
   "cell_type": "code",
   "execution_count": null,
   "metadata": {},
   "outputs": [],
   "source": [
    "# Utiliza los métodos que conozcas para explorar el dataset\n",
    "# ¿Cuántas filas y columnas tiene?"
   ]
  },
  {
   "cell_type": "code",
   "execution_count": null,
   "metadata": {},
   "outputs": [],
   "source": [
    "# Realiza un análisis de las variables numéricas por un lado y las categóricas por otro, obteniendo métricas como\n",
    "# count de filas, media, min y max, valores diferentes, etc"
   ]
  },
  {
   "cell_type": "markdown",
   "metadata": {},
   "source": [
    "💡 Los tipos de variables más comunes que nos podemos encontrar:\n",
    "- int64: valores enteros\n",
    "- float64: valores decimales\n",
    "- object: tipo de datos flexible que representa strings o tipos de datos mixtos (ej. alfanumérico)\n",
    "- datetime64[ns]: fechas y horas\n",
    "- bool: datos binarios (True/False)"
   ]
  },
  {
   "cell_type": "markdown",
   "metadata": {},
   "source": [
    "¿Qué conclusiones sacas después de este análisis inicial?\n",
    "\n",
    "\n",
    "\n",
    "***"
   ]
  },
  {
   "cell_type": "markdown",
   "metadata": {},
   "source": [
    "## 2. Transformaciones y ajustes de variables\n",
    "### 2.1 Gestión de nulos y campos vacíos\n",
    "Lo primero a gestionar son los nulos, ya que tenerlos en nuestros datos nos impedirá hacer otras transformaciones."
   ]
  },
  {
   "cell_type": "code",
   "execution_count": 2,
   "metadata": {},
   "outputs": [],
   "source": [
    "# ¿Cuántos nulls hay por cada columna? ¿qué porcentaje del total representan?\n"
   ]
  },
  {
   "cell_type": "code",
   "execution_count": null,
   "metadata": {},
   "outputs": [],
   "source": [
    "# ¿Qué estrategias se pueden seguir para gestionar los nulls?\n",
    "# Implementa la que consideres apropiada para cada variable con nulls"
   ]
  },
  {
   "cell_type": "markdown",
   "metadata": {},
   "source": [
    "## 2.2 Ajuste de los tipos de variables\n",
    "Para poder trabajar correctamente con los datos, hace falta transformar las variables al tipo de datos correcto. "
   ]
  },
  {
   "cell_type": "code",
   "execution_count": null,
   "metadata": {},
   "outputs": [],
   "source": [
    "# ¿Qué variables no tienen el tipo de dato correcto?\n",
    "# Implementa aquí el código para hacer el ajuste"
   ]
  },
  {
   "cell_type": "markdown",
   "metadata": {},
   "source": [
    "## 2.3 Gestión de outliers\n",
    "Los outliers pueden afectar en gran medida a nuestros análisis, es por eso por lo que es muy importante detectarlos y gestionarlos."
   ]
  },
  {
   "cell_type": "code",
   "execution_count": null,
   "metadata": {},
   "outputs": [],
   "source": [
    "# Analiza las variables numéricas para detectar outliers. \n",
    "# ¿Cómo? A través de inspección visual, utilizando métodos estadísticos como el Z Score o el IQR, etc\n"
   ]
  },
  {
   "cell_type": "code",
   "execution_count": null,
   "metadata": {},
   "outputs": [],
   "source": [
    "# Gestiona estos outliers\n"
   ]
  },
  {
   "cell_type": "markdown",
   "metadata": {},
   "source": [
    "En variables categóricas, así como la variable del tiempo, quizá no podemos hablar de outliers propiamente pero vamos a anlizarlas a ver si hay algún caso raro que debamos gestionar."
   ]
  },
  {
   "cell_type": "code",
   "execution_count": null,
   "metadata": {},
   "outputs": [],
   "source": [
    "# Analiza los valores únicos de las variables categóricas y gestiona los casos raros"
   ]
  },
  {
   "cell_type": "code",
   "execution_count": null,
   "metadata": {},
   "outputs": [],
   "source": [
    "# Analiza el rango de fechas del dataset y, si es necesario, gestiona los casos raros"
   ]
  },
  {
   "cell_type": "markdown",
   "metadata": {},
   "source": [
    "## 2.4 Gestión de duplicados"
   ]
  },
  {
   "cell_type": "code",
   "execution_count": null,
   "metadata": {},
   "outputs": [],
   "source": [
    "# Analiza si hay duplicados en el dataset, en general o por un subset de las columnas"
   ]
  },
  {
   "cell_type": "markdown",
   "metadata": {},
   "source": [
    "***"
   ]
  },
  {
   "cell_type": "markdown",
   "metadata": {},
   "source": [
    "## 3. Feature Engineering: creación de nuevas variables\n",
    "En algunos casos, podemos crear nuevas variables a partir de las que ya tenemos, que puedan enriquecer el análisis."
   ]
  },
  {
   "cell_type": "code",
   "execution_count": null,
   "metadata": {},
   "outputs": [],
   "source": [
    "# ¿Qué variables podría ser interesante crear?\n",
    "# Algunas ideas con pistas, enfocadas en el análisis que queremos hacer:\n",
    "# - Nos piden hacer un análisis de la facturación total por meses\n",
    "# - Nos piden segmentar los productos y categorías de productos por el feedback recibido, para saber los que peor valoración tienen"
   ]
  },
  {
   "cell_type": "markdown",
   "metadata": {},
   "source": [
    "***"
   ]
  },
  {
   "cell_type": "markdown",
   "metadata": {},
   "source": [
    "## 4. Combinación con otros datasets\n",
    "Además del dataset de transacciones, contamos con un dataset sobre los clientes, que podremos utilizar para hacer análisis más completos."
   ]
  },
  {
   "cell_type": "code",
   "execution_count": null,
   "metadata": {},
   "outputs": [],
   "source": [
    "# Carga el dataset\n",
    "df_customers = "
   ]
  },
  {
   "cell_type": "code",
   "execution_count": null,
   "metadata": {},
   "outputs": [],
   "source": [
    "# Haz un análisis general del dataset para entender qué columnas tiene"
   ]
  },
  {
   "cell_type": "code",
   "execution_count": null,
   "metadata": {},
   "outputs": [],
   "source": [
    "# ¿Hace falta gestionar algún null, tipo de variable, outlier o duplicado como hemos hecho previamente?\n"
   ]
  },
  {
   "cell_type": "markdown",
   "metadata": {},
   "source": [
    "Una vez hemos entendido y limpiado (en caso de ser necesario) el dataset sobre clientes, nos proponemos contestar las siguientes preguntas: <n>\n",
    "\n",
    "¿Dónde vendemos más productos? ¿Y qué categoría de productos? ¿Quiénes son nuestros clientes?"
   ]
  },
  {
   "cell_type": "code",
   "execution_count": null,
   "metadata": {},
   "outputs": [],
   "source": [
    "# Guía para hacer joins en pandas: https://pandas.pydata.org/pandas-docs/stable/user_guide/merging.html#merging-join\n",
    "\n",
    "# ¿Qué tipo de join es más apropiado en este caso? "
   ]
  },
  {
   "cell_type": "markdown",
   "metadata": {},
   "source": [
    "***"
   ]
  },
  {
   "cell_type": "markdown",
   "metadata": {},
   "source": [
    "## 5. Análisis de negocio\n",
    "Una vez hemos limpiado y preparado nuestros datasets, podemos hacer un análisis más enfocado a negocio. ¿Qué ocurrirá? Que a medida que vayamos planteando preguntas, tendremos que hacer ajustes similares a los que ya hemos hecho, generando nuevas variables y ajustando los datos al objetivo concreto."
   ]
  },
  {
   "cell_type": "markdown",
   "metadata": {},
   "source": []
  }
 ],
 "metadata": {
  "kernelspec": {
   "display_name": "Python 3",
   "language": "python",
   "name": "python3"
  },
  "language_info": {
   "codemirror_mode": {
    "name": "ipython",
    "version": 3
   },
   "file_extension": ".py",
   "mimetype": "text/x-python",
   "name": "python",
   "nbconvert_exporter": "python",
   "pygments_lexer": "ipython3",
   "version": "3.12.4"
  }
 },
 "nbformat": 4,
 "nbformat_minor": 2
}
